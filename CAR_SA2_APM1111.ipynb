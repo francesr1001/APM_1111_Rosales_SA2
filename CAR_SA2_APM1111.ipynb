{
 "cells": [
  {
   "cell_type": "markdown",
   "id": "02fcfa4c",
   "metadata": {},
   "source": [
    "\n",
    "        \n",
    "<div> \n",
    "\t\t\t<h2 style =\" margin-top: 5px;\" >&emsp;&emsp;&emsp;&emsp;Name: Frances Aneth Rosales <br> &emsp;&emsp;&emsp;&emsp;Student Number: 2021044631 <br> &emsp;&emsp;&emsp;&emsp;SA2  </h2>\n",
    "\t\t\n",
    "</div>\n",
    "\t\t<br><br><br>\n",
    "        \n",
    "\n",
    "# Engine oils \n",
    "\n"
   ]
  },
  {
   "cell_type": "markdown",
   "id": "2310c1b8",
   "metadata": {},
   "source": [
    "# READ FILE\n",
    "\n",
    "<section id=\"sectionmeandiff\"> </section>"
   ]
  },
  {
   "cell_type": "code",
   "execution_count": 12,
   "id": "60b70dd9",
   "metadata": {},
   "outputs": [
    {
     "name": "stdout",
     "output_type": "stream",
     "text": [
      "              Anova\n",
      "=================================\n",
      "    F Value Num DF  Den DF Pr > F\n",
      "---------------------------------\n",
      "Oil  0.5679 3.0000 12.0000 0.6466\n",
      "=================================\n",
      "\n"
     ]
    }
   ],
   "source": [
    "from statsmodels.stats.anova import AnovaRM\n",
    "\n",
    "dataframe = pd.DataFrame({'Cars': np.repeat([1, 2, 3, 4, 5], 4),\n",
    "                          'Oil': np.tile([1, 2, 3, 4], 5),\n",
    "                          'Mileage': [36, 38, 30, 29,\n",
    "                                      34, 38, 30, 29,\n",
    "                                      34, 28, 38, 32,\n",
    "                                      38, 34, 20, 44,\n",
    "                                      26, 28, 34, 50]})\n",
    "\n",
    "\n",
    "dataframe['Car_id'] = np.repeat(range(1, 6), 4)\n",
    "\n",
    "anova = AnovaRM(dataframe, 'Mileage', within=['Oil'], subject='Car_id').fit()\n",
    "\n",
    "\n",
    "\n",
    "print(anova)\n",
    "\n",
    "\n"
   ]
  },
  {
   "cell_type": "markdown",
   "id": "3e10577f",
   "metadata": {},
   "source": [
    "<html>\n",
    "\t<head>\n",
    "\t\t<meta http-equiv='Content-Type' content='text/html; charset=utf-8' />\n",
    "\t\t<title>JASP</title>\t\t<style>\t\t\tp {margin-top:1em; margin-bottom:1em;}\t\t</style>\t</head>\n",
    "\t<body style='display: block; padding: 0px; margin: 0px; '>\n",
    "<div style='padding: 0px 7.2px 0px 0px; text-align: start; margin-bottom: 7.2px; margin-top: 1.2px; margin-left: 0px; margin-right: 7.2px; display: block; float: none; position: static; '>\n",
    "<div style=\"display:inline-block; \">\n",
    "<div class=\"jasp-table-primitive jasp-display-primitive\" ><table class=\"jasp-no-select\" style='border-collapse: collapse; border-top-width: 0px; border-bottom-width: 0px; border-left-width: 0px; border-right-width: 0px; border-color: rgb(128, 128, 128); border-style: none; display: table; float: none; '><thead><tr><th colspan=\"12\" class=\"\" style='border-collapse: collapse; border-top-width: 0px; border-bottom-width: 1px; border-left-width: 0px; border-right-width: 0px; border-color: rgb(0, 0, 0); border-style: none none solid; display: table-cell; float: none; text-align: left; '><div class=\"toolbar\" ><div class=\"jasp-toolbar span-toolbar\" ><span class=\"in-toolbar toolbar-clickable\" >Descriptives</span>\n",
    "<div class=\"toolbar-button toolbar-clickable jasp-menu\" ></div>\n",
    "<div class=\"status complete\" ></div>\n",
    "</div>\n",
    "</div>\n",
    "</th>\n",
    "</tr>\n",
    "<tr><th colspan=\"2\" class=\"string\" style='border-collapse: collapse; border-top-width: 0px; border-bottom-width: 1px; border-left-width: 0px; border-right-width: 0px; border-color: rgb(0, 0, 0); border-style: none none solid; display: table-cell; float: none; text-align: center; '>RM Factor 1</th>\n",
    "<th colspan=\"2\" class=\"integer\" style='border-collapse: collapse; border-top-width: 0px; border-bottom-width: 1px; border-left-width: 0px; border-right-width: 0px; border-color: rgb(0, 0, 0); border-style: none none solid; display: table-cell; float: none; text-align: center; '>N</th>\n",
    "<th colspan=\"2\" class=\"number\" style='border-collapse: collapse; border-top-width: 0px; border-bottom-width: 1px; border-left-width: 0px; border-right-width: 0px; border-color: rgb(0, 0, 0); border-style: none none solid; display: table-cell; float: none; text-align: center; '>Mean</th>\n",
    "<th colspan=\"2\" class=\"number\" style='border-collapse: collapse; border-top-width: 0px; border-bottom-width: 1px; border-left-width: 0px; border-right-width: 0px; border-color: rgb(0, 0, 0); border-style: none none solid; display: table-cell; float: none; text-align: center; '>SD</th>\n",
    "<th colspan=\"2\" class=\"number\" style='border-collapse: collapse; border-top-width: 0px; border-bottom-width: 1px; border-left-width: 0px; border-right-width: 0px; border-color: rgb(0, 0, 0); border-style: none none solid; display: table-cell; float: none; text-align: center; '>SE</th>\n",
    "<th colspan=\"2\" class=\"number\" style='border-collapse: collapse; border-top-width: 0px; border-bottom-width: 1px; border-left-width: 0px; border-right-width: 0px; border-color: rgb(0, 0, 0); border-style: none none solid; display: table-cell; float: none; text-align: center; '>Coefficient of variation</th>\n",
    "</tr>\n",
    "</thead>\n",
    "<tbody><tr><td class=\"value text\" style='border-collapse: collapse; border-top-width: 0px; border-bottom-width: 0px; border-left-width: 0px; border-right-width: 0px; border-color: rgb(0, 0, 0); border-style: none; display: table-cell; float: none; text-align: left; '>Oil 1-Mileage</td>\n",
    "<td class=\"symbol text\" style='border-collapse: collapse; border-top-width: 0px; border-bottom-width: 0px; border-left-width: 0px; border-right-width: 0px; border-color: rgb(0, 0, 0); border-style: none; display: table-cell; float: none; text-align: left; '></td>\n",
    "<td class=\"value number\" style='border-collapse: collapse; border-top-width: 0px; border-bottom-width: 0px; border-left-width: 0px; border-right-width: 0px; border-color: rgb(0, 0, 0); border-style: none; display: table-cell; float: none; text-align: right; '>5</td>\n",
    "<td class=\"symbol number\" style='border-collapse: collapse; border-top-width: 0px; border-bottom-width: 0px; border-left-width: 0px; border-right-width: 0px; border-color: rgb(0, 0, 0); border-style: none; display: table-cell; float: none; text-align: left; '></td>\n",
    "<td class=\"value number\" style='border-collapse: collapse; border-top-width: 0px; border-bottom-width: 0px; border-left-width: 0px; border-right-width: 0px; border-color: rgb(0, 0, 0); border-style: none; display: table-cell; float: none; text-align: right; '>33.600</td>\n",
    "<td class=\"symbol number\" style='border-collapse: collapse; border-top-width: 0px; border-bottom-width: 0px; border-left-width: 0px; border-right-width: 0px; border-color: rgb(0, 0, 0); border-style: none; display: table-cell; float: none; text-align: left; '></td>\n",
    "<td class=\"value number\" style='border-collapse: collapse; border-top-width: 0px; border-bottom-width: 0px; border-left-width: 0px; border-right-width: 0px; border-color: rgb(0, 0, 0); border-style: none; display: table-cell; float: none; text-align: right; '>4.561</td>\n",
    "<td class=\"symbol number\" style='border-collapse: collapse; border-top-width: 0px; border-bottom-width: 0px; border-left-width: 0px; border-right-width: 0px; border-color: rgb(0, 0, 0); border-style: none; display: table-cell; float: none; text-align: left; '></td>\n",
    "<td class=\"value number\" style='border-collapse: collapse; border-top-width: 0px; border-bottom-width: 0px; border-left-width: 0px; border-right-width: 0px; border-color: rgb(0, 0, 0); border-style: none; display: table-cell; float: none; text-align: right; '>2.040</td>\n",
    "<td class=\"symbol number\" style='border-collapse: collapse; border-top-width: 0px; border-bottom-width: 0px; border-left-width: 0px; border-right-width: 0px; border-color: rgb(0, 0, 0); border-style: none; display: table-cell; float: none; text-align: left; '></td>\n",
    "<td class=\"value number\" style='border-collapse: collapse; border-top-width: 0px; border-bottom-width: 0px; border-left-width: 0px; border-right-width: 0px; border-color: rgb(0, 0, 0); border-style: none; display: table-cell; float: none; text-align: right; '>0.136</td>\n",
    "<td class=\"symbol number\" style='border-collapse: collapse; border-top-width: 0px; border-bottom-width: 0px; border-left-width: 0px; border-right-width: 0px; border-color: rgb(0, 0, 0); border-style: none; display: table-cell; float: none; text-align: left; '></td>\n",
    "</tr>\n",
    "<tr><td class=\"value text\" style='border-collapse: collapse; border-top-width: 0px; border-bottom-width: 0px; border-left-width: 0px; border-right-width: 0px; border-color: rgb(0, 0, 0); border-style: none; display: table-cell; float: none; text-align: left; '>Oil 2-Mileage</td>\n",
    "<td class=\"symbol text\" style='border-collapse: collapse; border-top-width: 0px; border-bottom-width: 0px; border-left-width: 0px; border-right-width: 0px; border-color: rgb(0, 0, 0); border-style: none; display: table-cell; float: none; text-align: left; '></td>\n",
    "<td class=\"value number\" style='border-collapse: collapse; border-top-width: 0px; border-bottom-width: 0px; border-left-width: 0px; border-right-width: 0px; border-color: rgb(0, 0, 0); border-style: none; display: table-cell; float: none; text-align: right; '>5</td>\n",
    "<td class=\"symbol number\" style='border-collapse: collapse; border-top-width: 0px; border-bottom-width: 0px; border-left-width: 0px; border-right-width: 0px; border-color: rgb(0, 0, 0); border-style: none; display: table-cell; float: none; text-align: left; '></td>\n",
    "<td class=\"value number\" style='border-collapse: collapse; border-top-width: 0px; border-bottom-width: 0px; border-left-width: 0px; border-right-width: 0px; border-color: rgb(0, 0, 0); border-style: none; display: table-cell; float: none; text-align: right; '>33.200</td>\n",
    "<td class=\"symbol number\" style='border-collapse: collapse; border-top-width: 0px; border-bottom-width: 0px; border-left-width: 0px; border-right-width: 0px; border-color: rgb(0, 0, 0); border-style: none; display: table-cell; float: none; text-align: left; '></td>\n",
    "<td class=\"value number\" style='border-collapse: collapse; border-top-width: 0px; border-bottom-width: 0px; border-left-width: 0px; border-right-width: 0px; border-color: rgb(0, 0, 0); border-style: none; display: table-cell; float: none; text-align: right; '>5.020</td>\n",
    "<td class=\"symbol number\" style='border-collapse: collapse; border-top-width: 0px; border-bottom-width: 0px; border-left-width: 0px; border-right-width: 0px; border-color: rgb(0, 0, 0); border-style: none; display: table-cell; float: none; text-align: left; '></td>\n",
    "<td class=\"value number\" style='border-collapse: collapse; border-top-width: 0px; border-bottom-width: 0px; border-left-width: 0px; border-right-width: 0px; border-color: rgb(0, 0, 0); border-style: none; display: table-cell; float: none; text-align: right; '>2.245</td>\n",
    "<td class=\"symbol number\" style='border-collapse: collapse; border-top-width: 0px; border-bottom-width: 0px; border-left-width: 0px; border-right-width: 0px; border-color: rgb(0, 0, 0); border-style: none; display: table-cell; float: none; text-align: left; '></td>\n",
    "<td class=\"value number\" style='border-collapse: collapse; border-top-width: 0px; border-bottom-width: 0px; border-left-width: 0px; border-right-width: 0px; border-color: rgb(0, 0, 0); border-style: none; display: table-cell; float: none; text-align: right; '>0.151</td>\n",
    "<td class=\"symbol number\" style='border-collapse: collapse; border-top-width: 0px; border-bottom-width: 0px; border-left-width: 0px; border-right-width: 0px; border-color: rgb(0, 0, 0); border-style: none; display: table-cell; float: none; text-align: left; '></td>\n",
    "</tr>\n",
    "<tr><td class=\"value text\" style='border-collapse: collapse; border-top-width: 0px; border-bottom-width: 0px; border-left-width: 0px; border-right-width: 0px; border-color: rgb(0, 0, 0); border-style: none; display: table-cell; float: none; text-align: left; '>Oil 3-Mileage</td>\n",
    "<td class=\"symbol text\" style='border-collapse: collapse; border-top-width: 0px; border-bottom-width: 0px; border-left-width: 0px; border-right-width: 0px; border-color: rgb(0, 0, 0); border-style: none; display: table-cell; float: none; text-align: left; '></td>\n",
    "<td class=\"value number\" style='border-collapse: collapse; border-top-width: 0px; border-bottom-width: 0px; border-left-width: 0px; border-right-width: 0px; border-color: rgb(0, 0, 0); border-style: none; display: table-cell; float: none; text-align: right; '>5</td>\n",
    "<td class=\"symbol number\" style='border-collapse: collapse; border-top-width: 0px; border-bottom-width: 0px; border-left-width: 0px; border-right-width: 0px; border-color: rgb(0, 0, 0); border-style: none; display: table-cell; float: none; text-align: left; '></td>\n",
    "<td class=\"value number\" style='border-collapse: collapse; border-top-width: 0px; border-bottom-width: 0px; border-left-width: 0px; border-right-width: 0px; border-color: rgb(0, 0, 0); border-style: none; display: table-cell; float: none; text-align: right; '>30.400</td>\n",
    "<td class=\"symbol number\" style='border-collapse: collapse; border-top-width: 0px; border-bottom-width: 0px; border-left-width: 0px; border-right-width: 0px; border-color: rgb(0, 0, 0); border-style: none; display: table-cell; float: none; text-align: left; '></td>\n",
    "<td class=\"value number\" style='border-collapse: collapse; border-top-width: 0px; border-bottom-width: 0px; border-left-width: 0px; border-right-width: 0px; border-color: rgb(0, 0, 0); border-style: none; display: table-cell; float: none; text-align: right; '>6.693</td>\n",
    "<td class=\"symbol number\" style='border-collapse: collapse; border-top-width: 0px; border-bottom-width: 0px; border-left-width: 0px; border-right-width: 0px; border-color: rgb(0, 0, 0); border-style: none; display: table-cell; float: none; text-align: left; '></td>\n",
    "<td class=\"value number\" style='border-collapse: collapse; border-top-width: 0px; border-bottom-width: 0px; border-left-width: 0px; border-right-width: 0px; border-color: rgb(0, 0, 0); border-style: none; display: table-cell; float: none; text-align: right; '>2.993</td>\n",
    "<td class=\"symbol number\" style='border-collapse: collapse; border-top-width: 0px; border-bottom-width: 0px; border-left-width: 0px; border-right-width: 0px; border-color: rgb(0, 0, 0); border-style: none; display: table-cell; float: none; text-align: left; '></td>\n",
    "<td class=\"value number\" style='border-collapse: collapse; border-top-width: 0px; border-bottom-width: 0px; border-left-width: 0px; border-right-width: 0px; border-color: rgb(0, 0, 0); border-style: none; display: table-cell; float: none; text-align: right; '>0.220</td>\n",
    "<td class=\"symbol number\" style='border-collapse: collapse; border-top-width: 0px; border-bottom-width: 0px; border-left-width: 0px; border-right-width: 0px; border-color: rgb(0, 0, 0); border-style: none; display: table-cell; float: none; text-align: left; '></td>\n",
    "</tr>\n",
    "<tr><td class=\"value text\" style='border-collapse: collapse; border-top-width: 0px; border-bottom-width: 0px; border-left-width: 0px; border-right-width: 0px; border-color: rgb(0, 0, 0); border-style: none; display: table-cell; float: none; text-align: left; '>Oil 4-Mileage</td>\n",
    "<td class=\"symbol text\" style='border-collapse: collapse; border-top-width: 0px; border-bottom-width: 0px; border-left-width: 0px; border-right-width: 0px; border-color: rgb(0, 0, 0); border-style: none; display: table-cell; float: none; text-align: left; '></td>\n",
    "<td class=\"value number\" style='border-collapse: collapse; border-top-width: 0px; border-bottom-width: 0px; border-left-width: 0px; border-right-width: 0px; border-color: rgb(0, 0, 0); border-style: none; display: table-cell; float: none; text-align: right; '>5</td>\n",
    "<td class=\"symbol number\" style='border-collapse: collapse; border-top-width: 0px; border-bottom-width: 0px; border-left-width: 0px; border-right-width: 0px; border-color: rgb(0, 0, 0); border-style: none; display: table-cell; float: none; text-align: left; '></td>\n",
    "<td class=\"value number\" style='border-collapse: collapse; border-top-width: 0px; border-bottom-width: 0px; border-left-width: 0px; border-right-width: 0px; border-color: rgb(0, 0, 0); border-style: none; display: table-cell; float: none; text-align: right; '>36.800</td>\n",
    "<td class=\"symbol number\" style='border-collapse: collapse; border-top-width: 0px; border-bottom-width: 0px; border-left-width: 0px; border-right-width: 0px; border-color: rgb(0, 0, 0); border-style: none; display: table-cell; float: none; text-align: left; '></td>\n",
    "<td class=\"value number\" style='border-collapse: collapse; border-top-width: 0px; border-bottom-width: 0px; border-left-width: 0px; border-right-width: 0px; border-color: rgb(0, 0, 0); border-style: none; display: table-cell; float: none; text-align: right; '>9.628</td>\n",
    "<td class=\"symbol number\" style='border-collapse: collapse; border-top-width: 0px; border-bottom-width: 0px; border-left-width: 0px; border-right-width: 0px; border-color: rgb(0, 0, 0); border-style: none; display: table-cell; float: none; text-align: left; '></td>\n",
    "<td class=\"value number\" style='border-collapse: collapse; border-top-width: 0px; border-bottom-width: 0px; border-left-width: 0px; border-right-width: 0px; border-color: rgb(0, 0, 0); border-style: none; display: table-cell; float: none; text-align: right; '>4.306</td>\n",
    "<td class=\"symbol number\" style='border-collapse: collapse; border-top-width: 0px; border-bottom-width: 0px; border-left-width: 0px; border-right-width: 0px; border-color: rgb(0, 0, 0); border-style: none; display: table-cell; float: none; text-align: left; '></td>\n",
    "<td class=\"value number\" style='border-collapse: collapse; border-top-width: 0px; border-bottom-width: 0px; border-left-width: 0px; border-right-width: 0px; border-color: rgb(0, 0, 0); border-style: none; display: table-cell; float: none; text-align: right; '>0.262</td>\n",
    "<td class=\"symbol number\" style='border-collapse: collapse; border-top-width: 0px; border-bottom-width: 0px; border-left-width: 0px; border-right-width: 0px; border-color: rgb(0, 0, 0); border-style: none; display: table-cell; float: none; text-align: left; '></td>\n",
    "</tr>\n",
    "<tr><td colspan=\"12\" class=\"\" style='border-collapse: collapse; border-top-width: 0px; border-bottom-width: 2px; border-left-width: 0px; border-right-width: 0px; border-color: rgb(0, 0, 0); border-style: none none solid; display: table-cell; float: none; text-align: right; '></td>\n",
    "</tr>\n",
    "</tbody>\n",
    "<tfoot></tfoot>\n",
    "</table>\n",
    "</div>\n",
    "</div></div>\t</body>\n",
    "</html>"
   ]
  },
  {
   "cell_type": "markdown",
   "id": "fbce51e7",
   "metadata": {},
   "source": [
    "<html>\n",
    "\t<head>\n",
    "\t\t<meta http-equiv='Content-Type' content='text/html; charset=utf-8' />\n",
    "\t\t<title>JASP</title>\t\t<style>\t\t\tp {margin-top:1em; margin-bottom:1em;}\t\t</style>\t</head>\n",
    "\t<body style='display: block; padding: 0px; margin: 0px; '>\n",
    "<div style='padding: 0px 7.2px; text-align: start; margin-bottom: 7.2px; margin-top: 7.2px; margin-left: 0px; margin-right: 7.2px; display: block; float: none; position: static; '>\n",
    "<div style=\"display:inline-block; \">\n",
    "<div  ><h3 >Assumption Checks</h3></div><div style='padding: 0px 7.2px 0px 0px; text-align: start; margin-bottom: 7.2px; margin-top: 1.2px; margin-left: 0px; margin-right: 7.2px; display: block; float: none; position: static; '>\n",
    "<div style=\"display:inline-block; \">\n",
    "<div class=\"jasp-table-primitive jasp-display-primitive\" ><table class=\"jasp-no-select\" style='border-collapse: collapse; border-top-width: 0px; border-bottom-width: 0px; border-left-width: 0px; border-right-width: 0px; border-color: rgb(128, 128, 128); border-style: none; display: table; float: none; '><thead><tr><th colspan=\"16\" style='border-collapse: collapse; border-top-width: 0px; border-bottom-width: 1px; border-left-width: 0px; border-right-width: 0px; border-color: rgb(0, 0, 0); border-style: none none solid; display: table-cell; float: none; text-align: left; '><div class=\"toolbar\" ><div class=\"jasp-toolbar span-toolbar\" ><span class=\"in-toolbar toolbar-clickable\" >Test of Sphericity</span>\n",
    "<div class=\"toolbar-button toolbar-clickable jasp-menu jasp-hide\" ></div>\n",
    "<div class=\"status complete\" ></div>\n",
    "</div>\n",
    "</div>\n",
    "</th>\n",
    "</tr>\n",
    "<tr><th colspan=\"2\" class=\"string\" style='border-collapse: collapse; border-top-width: 0px; border-bottom-width: 1px; border-left-width: 0px; border-right-width: 0px; border-color: rgb(0, 0, 0); border-style: none none solid; display: table-cell; float: none; text-align: center; '> </th>\n",
    "<th colspan=\"2\" class=\"number\" style='border-collapse: collapse; border-top-width: 0px; border-bottom-width: 1px; border-left-width: 0px; border-right-width: 0px; border-color: rgb(0, 0, 0); border-style: none none solid; display: table-cell; float: none; text-align: center; '>Mauchly&#39;s W</th>\n",
    "<th colspan=\"2\" class=\"number\" style='border-collapse: collapse; border-top-width: 0px; border-bottom-width: 1px; border-left-width: 0px; border-right-width: 0px; border-color: rgb(0, 0, 0); border-style: none none solid; display: table-cell; float: none; text-align: center; '>Approx. Χ²</th>\n",
    "<th colspan=\"2\" class=\"integer\" style='border-collapse: collapse; border-top-width: 0px; border-bottom-width: 1px; border-left-width: 0px; border-right-width: 0px; border-color: rgb(0, 0, 0); border-style: none none solid; display: table-cell; float: none; text-align: center; '>df</th>\n",
    "<th colspan=\"2\" class=\"pvalue\" style='border-collapse: collapse; border-top-width: 0px; border-bottom-width: 1px; border-left-width: 0px; border-right-width: 0px; border-color: rgb(0, 0, 0); border-style: none none solid; display: table-cell; float: none; text-align: center; '>p-value</th>\n",
    "<th colspan=\"2\" class=\"number\" style='border-collapse: collapse; border-top-width: 0px; border-bottom-width: 1px; border-left-width: 0px; border-right-width: 0px; border-color: rgb(0, 0, 0); border-style: none none solid; display: table-cell; float: none; text-align: center; '>Greenhouse-Geisser ε</th>\n",
    "<th colspan=\"2\" class=\"number\" style='border-collapse: collapse; border-top-width: 0px; border-bottom-width: 1px; border-left-width: 0px; border-right-width: 0px; border-color: rgb(0, 0, 0); border-style: none none solid; display: table-cell; float: none; text-align: center; '>Huynh-Feldt ε</th>\n",
    "<th colspan=\"2\" class=\"number\" style='border-collapse: collapse; border-top-width: 0px; border-bottom-width: 1px; border-left-width: 0px; border-right-width: 0px; border-color: rgb(0, 0, 0); border-style: none none solid; display: table-cell; float: none; text-align: center; '>Lower Bound ε</th>\n",
    "</tr>\n",
    "</thead>\n",
    "<tbody><tr><td class=\"value text\" style='border-collapse: collapse; border-top-width: 0px; border-bottom-width: 0px; border-left-width: 0px; border-right-width: 0px; border-color: rgb(0, 0, 0); border-style: none; display: table-cell; float: none; text-align: left; '>RM Factor 1</td>\n",
    "<td class=\"symbol text\" style='border-collapse: collapse; border-top-width: 0px; border-bottom-width: 0px; border-left-width: 0px; border-right-width: 0px; border-color: rgb(0, 0, 0); border-style: none; display: table-cell; float: none; text-align: left; '></td>\n",
    "<td class=\"value number\" style='border-collapse: collapse; border-top-width: 0px; border-bottom-width: 0px; border-left-width: 0px; border-right-width: 0px; border-color: rgb(0, 0, 0); border-style: none; display: table-cell; float: none; text-align: right; '>0.287</td>\n",
    "<td class=\"symbol number\" style='border-collapse: collapse; border-top-width: 0px; border-bottom-width: 0px; border-left-width: 0px; border-right-width: 0px; border-color: rgb(0, 0, 0); border-style: none; display: table-cell; float: none; text-align: left; '></td>\n",
    "<td class=\"value number\" style='border-collapse: collapse; border-top-width: 0px; border-bottom-width: 0px; border-left-width: 0px; border-right-width: 0px; border-color: rgb(0, 0, 0); border-style: none; display: table-cell; float: none; text-align: right; '>3.394</td>\n",
    "<td class=\"symbol number\" style='border-collapse: collapse; border-top-width: 0px; border-bottom-width: 0px; border-left-width: 0px; border-right-width: 0px; border-color: rgb(0, 0, 0); border-style: none; display: table-cell; float: none; text-align: left; '></td>\n",
    "<td class=\"value number\" style='border-collapse: collapse; border-top-width: 0px; border-bottom-width: 0px; border-left-width: 0px; border-right-width: 0px; border-color: rgb(0, 0, 0); border-style: none; display: table-cell; float: none; text-align: right; '>5</td>\n",
    "<td class=\"symbol number\" style='border-collapse: collapse; border-top-width: 0px; border-bottom-width: 0px; border-left-width: 0px; border-right-width: 0px; border-color: rgb(0, 0, 0); border-style: none; display: table-cell; float: none; text-align: left; '></td>\n",
    "<td class=\"value number\" style='border-collapse: collapse; border-top-width: 0px; border-bottom-width: 0px; border-left-width: 0px; border-right-width: 0px; border-color: rgb(0, 0, 0); border-style: none; display: table-cell; float: none; text-align: right; '>0.659</td>\n",
    "<td class=\"symbol number\" style='border-collapse: collapse; border-top-width: 0px; border-bottom-width: 0px; border-left-width: 0px; border-right-width: 0px; border-color: rgb(0, 0, 0); border-style: none; display: table-cell; float: none; text-align: left; '></td>\n",
    "<td class=\"value number\" style='border-collapse: collapse; border-top-width: 0px; border-bottom-width: 0px; border-left-width: 0px; border-right-width: 0px; border-color: rgb(0, 0, 0); border-style: none; display: table-cell; float: none; text-align: right; '>0.688</td>\n",
    "<td class=\"symbol number\" style='border-collapse: collapse; border-top-width: 0px; border-bottom-width: 0px; border-left-width: 0px; border-right-width: 0px; border-color: rgb(0, 0, 0); border-style: none; display: table-cell; float: none; text-align: left; '></td>\n",
    "<td class=\"value number\" style='border-collapse: collapse; border-top-width: 0px; border-bottom-width: 0px; border-left-width: 0px; border-right-width: 0px; border-color: rgb(0, 0, 0); border-style: none; display: table-cell; float: none; text-align: right; '>1.000</td>\n",
    "<td class=\"symbol number\" style='border-collapse: collapse; border-top-width: 0px; border-bottom-width: 0px; border-left-width: 0px; border-right-width: 0px; border-color: rgb(0, 0, 0); border-style: none; display: table-cell; float: none; text-align: left; '></td>\n",
    "<td class=\"value number\" style='border-collapse: collapse; border-top-width: 0px; border-bottom-width: 0px; border-left-width: 0px; border-right-width: 0px; border-color: rgb(0, 0, 0); border-style: none; display: table-cell; float: none; text-align: right; '>0.333</td>\n",
    "<td class=\"symbol number\" style='border-collapse: collapse; border-top-width: 0px; border-bottom-width: 0px; border-left-width: 0px; border-right-width: 0px; border-color: rgb(0, 0, 0); border-style: none; display: table-cell; float: none; text-align: left; '></td>\n",
    "</tr>\n",
    "<tr><td colspan=\"16\" style='border-collapse: collapse; border-top-width: 0px; border-bottom-width: 2px; border-left-width: 0px; border-right-width: 0px; border-color: rgb(0, 0, 0); border-style: none none solid; display: table-cell; float: none; text-align: right; '></td>\n",
    "</tr>\n",
    "</tbody>\n",
    "<tfoot></tfoot>\n",
    "</table>\n",
    "</div>\n",
    "</div></div></div></div>\t</body>\n",
    "</html>m"
   ]
  },
  {
   "cell_type": "markdown",
   "id": "52651d95",
   "metadata": {},
   "source": [
    "<h3><b>\n",
    "Assumption check ofUsing Test of Sphericity.<br></b>\n",
    "<br>\n",
    "Since the p-value is high at 0.659, the Mauchly's test statistic of 0.287 indicates that the variances are not significantly different from one another.\n",
    "If the assumption of sphericity is broken, the Greenhouse-Geisser correction is used. The analysis's degrees of freedom would be modified using the correction factor, which is 0.688.\n",
    "<br>\n",
    "It is crucial to take the Greenhouse-Geisser correction into account. This adjustment is frequently used by researchers to guarantee the validity of their statistical inferences and address possible problems associated with sphericity violations.\n"
   ]
  },
  {
   "cell_type": "markdown",
   "id": "ab91c09d",
   "metadata": {},
   "source": [
    "# OIL 1"
   ]
  },
  {
   "cell_type": "markdown",
   "id": "4269478c",
   "metadata": {},
   "source": [
    "<img src=\"oil1.png\" alt=\"Oil Image\" width=\"350\" height=\"350\">"
   ]
  },
  {
   "cell_type": "markdown",
   "id": "f8a19abd",
   "metadata": {},
   "source": [
    "# OIL 2"
   ]
  },
  {
   "cell_type": "markdown",
   "id": "0e455898",
   "metadata": {},
   "source": [
    "<img src=\"oil2.png\" alt=\"Oil Image\" width=\"350\" height=\"350\">"
   ]
  },
  {
   "cell_type": "markdown",
   "id": "232eb0e5",
   "metadata": {},
   "source": [
    "# OIL 3"
   ]
  },
  {
   "cell_type": "markdown",
   "id": "b156f00d",
   "metadata": {},
   "source": [
    "<img src=\"oil3.png\" alt=\"Oil Image\" width=\"350\" height=\"350\">"
   ]
  },
  {
   "cell_type": "markdown",
   "id": "424dc72a",
   "metadata": {},
   "source": [
    "# OIL 4"
   ]
  },
  {
   "cell_type": "markdown",
   "id": "95390201",
   "metadata": {},
   "source": [
    "<img src=\"oil4.png\" alt=\"Oil Image\" width=\"350\" height=\"350\">"
   ]
  },
  {
   "cell_type": "markdown",
   "id": "28cca9d1",
   "metadata": {},
   "source": [
    "<h4>\n",
    "\n",
    "With the Data presentation, in which Oil 1,2,3,and 4 accumulated in different Mileage.\n",
    "\n",
    "Wherein Oil 1 accumulate a higher count in 34.\n",
    "Oil 2 is between 38 and 28.\n",
    "Oil 3 is in a 30 count, while Oil 4 accumulate a count in 29 the highest."
   ]
  },
  {
   "cell_type": "markdown",
   "id": "01f7fb00",
   "metadata": {},
   "source": [
    "# Conclusion\n",
    "<h4>\n",
    "With the give 4 oils have various performance patterns that may be seen when the average mileage of each oil is examined. The average mileage of vehicles running Oil 1 is 33.600, which suggests a steady performance. Conversely, Oil 2 exhibits a somewhat reduced average mileage of 32.200;<br> however, with a standard deviation of 5.020, discernible performance variability is observed. Oil 3 has the lowest average mileage (30.400) and the largest standard deviation (6.693), suggesting a greater variety of performance results.\n",
    "<br><br>\n",
    "It's interesting to note that cars using Oil 4 have the highest mean mileage—36.800—which indicates better overall performance. But as the higher standard deviation of 9.628 and the standard error of 4.306 show, this benefit comes with a cost. Despite having the highest mean mileage among the oils, Oil 4 appears to have more variable performance outcomes when measured against the other oils.\n",
    "<br><br>\n",
    "The distribution of mileage counts for each oil is further shown by the data presentation. Oil 1 builds up a larger number, approximately 34. There is variation in Oil 2, with counts varying from 38 to 28. Oil 4 records the highest count at 29, while Oil 3 consistently records counts around thirty. Together, these revelations highlight the importance of"
   ]
  },
  {
   "cell_type": "markdown",
   "id": "0135afbe",
   "metadata": {},
   "source": [
    "# Guide for Creating a CSV"
   ]
  },
  {
   "cell_type": "code",
   "execution_count": 10,
   "id": "1773cfb1",
   "metadata": {},
   "outputs": [],
   "source": [
    "import pandas as pd\n",
    "import numpy as np\n",
    "\n",
    "\n",
    "dataframe.to_csv('mileage_data.csv', index=False)\n"
   ]
  }
 ],
 "metadata": {
  "kernelspec": {
   "display_name": "Python 3 (ipykernel)",
   "language": "python",
   "name": "python3"
  },
  "language_info": {
   "codemirror_mode": {
    "name": "ipython",
    "version": 3
   },
   "file_extension": ".py",
   "mimetype": "text/x-python",
   "name": "python",
   "nbconvert_exporter": "python",
   "pygments_lexer": "ipython3",
   "version": "3.11.3"
  }
 },
 "nbformat": 4,
 "nbformat_minor": 5
}
