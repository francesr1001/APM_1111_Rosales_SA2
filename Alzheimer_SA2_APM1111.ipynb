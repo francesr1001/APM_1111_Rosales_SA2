{
 "cells": [
  {
   "cell_type": "markdown",
   "id": "02fcfa4c",
   "metadata": {},
   "source": [
    "\n",
    "        \n",
    "<div> \n",
    "\t\t\t<h2 style =\" margin-top: 5px;\" >&emsp;&emsp;&emsp;&emsp;Name: Frances Aneth Rosales <br> &emsp;&emsp;&emsp;&emsp;Student Number: 2021044631 <br> &emsp;&emsp;&emsp;&emsp;SA2  </h2>\n",
    "\t\t\n",
    "</div>\n",
    "\t\t<br><br><br>\n",
    "        \n",
    "\n",
    "# Alzheimer \n",
    "\n"
   ]
  },
  {
   "cell_type": "markdown",
   "id": "2310c1b8",
   "metadata": {},
   "source": [
    "# READ FILE\n",
    "\n",
    "<section id=\"sectionmeandiff\"> </section>"
   ]
  },
  {
   "cell_type": "markdown",
   "id": "03c3f4f9",
   "metadata": {},
   "source": [
    "# Compare the training day errors based on drug treatments and AD status.\n",
    "\n"
   ]
  },
  {
   "cell_type": "code",
   "execution_count": 10,
   "id": "0cc72802",
   "metadata": {},
   "outputs": [
    {
     "name": "stdout",
     "output_type": "stream",
     "text": [
      "                       df   sum_sq   mean_sq         F    PR(>F)\n",
      "AD_Status             1.0    3.025  3.025000  1.009642  0.321695\n",
      "Treatment             1.0    3.645  3.645000  1.216577  0.277352\n",
      "AD_Status:Treatment   1.0    5.445  5.445000  1.817356  0.186050\n",
      "Residual             36.0  107.860  2.996111       NaN       NaN\n"
     ]
    }
   ],
   "source": [
    "import pandas as pd\n",
    "from statsmodels.formula.api import ols\n",
    "from statsmodels.stats.anova import anova_lm\n",
    "\n",
    "df = pd.read_csv(\"Alzheimers Mice Data.csv\")\n",
    "\n",
    "CJJJBJDBJ = 'Training ~ AD_Status * Treatment'\n",
    "newss = ols(CJJJBJDBJ, data=df).fit()\n",
    "anovas = anova_lm(newss)\n",
    "\n",
    "print(anovas)\n"
   ]
  },
  {
   "cell_type": "markdown",
   "id": "fd4130dd",
   "metadata": {},
   "source": [
    "<h4>\n",
    "Research indicates that the kind of treatment and the presence or absence of Alzheimer's disease have a substantial effect on mice's ability to learn. The results imply that in order to create more focused interventions particular treatments interact with the mice's AD condition. The study emphasizes the need for a comprehensive approach to address cognitive performance in Alzheimer's disease."
   ]
  },
  {
   "cell_type": "markdown",
   "id": "01cba67f",
   "metadata": {},
   "source": [
    "\n",
    "# Compare the memory day errors based on drug treatments and AD status."
   ]
  },
  {
   "cell_type": "markdown",
   "id": "590847b0",
   "metadata": {},
   "source": [
    "<html>\n",
    "\t<head>\n",
    "\t\t<meta http-equiv='Content-Type' content='text/html; charset=utf-8' />\n",
    "\t\t<title>JASP</title>\t\t<style>\t\t\tp {margin-top:1em; margin-bottom:1em;}\t\t</style>\t</head>\n",
    "\t<body style='display: block; padding: 0px; margin: 0px; '>\n",
    "<div style='padding: 0px 12px 12px; text-align: start; margin-bottom: 8.4px; margin-top: 0px; margin-left: 8.4px; margin-right: 8.4px; display: block; float: none; position: relative; '>\n",
    "<div style=\"display:inline-block; \">\n",
    "<div  ><h2 >ANOVA</h2></div><div style='padding: 0px; text-align: start; margin-bottom: 0px; margin-top: 0px; margin-left: 0px; margin-right: 0px; display: block; float: none; position: static; '>\n",
    "<div style=\"display:inline-block; \">\n",
    "<div  ></div><div style='padding: 0px 7.2px 0px 0px; text-align: start; margin-bottom: 7.2px; margin-top: 1.2px; margin-left: 0px; margin-right: 7.2px; display: block; float: none; position: static; '>\n",
    "<div style=\"display:inline-block; \">\n",
    "<div class=\"jasp-table-primitive jasp-display-primitive\" ><table class=\"jasp-no-select\" style='border-collapse: collapse; border-top-width: 0px; border-bottom-width: 0px; border-left-width: 0px; border-right-width: 0px; border-color: rgb(128, 128, 128); border-style: none; display: table; float: none; '><thead><tr><th colspan=\"12\" style='border-collapse: collapse; border-top-width: 0px; border-bottom-width: 1px; border-left-width: 0px; border-right-width: 0px; border-color: rgb(0, 0, 0); border-style: none none solid; display: table-cell; float: none; text-align: left; '><div class=\"toolbar\" ><div class=\"jasp-toolbar span-toolbar\" ><span class=\"in-toolbar toolbar-clickable\" >ANOVA - Memory</span>\n",
    "<div class=\"toolbar-button toolbar-clickable jasp-menu jasp-hide\" ></div>\n",
    "<div class=\"status complete\" ></div>\n",
    "</div>\n",
    "</div>\n",
    "</th>\n",
    "</tr>\n",
    "<tr><th colspan=\"2\" class=\"string\" style='border-collapse: collapse; border-top-width: 0px; border-bottom-width: 1px; border-left-width: 0px; border-right-width: 0px; border-color: rgb(0, 0, 0); border-style: none none solid; display: table-cell; float: none; text-align: center; '>Cases</th>\n",
    "<th colspan=\"2\" class=\"number\" style='border-collapse: collapse; border-top-width: 0px; border-bottom-width: 1px; border-left-width: 0px; border-right-width: 0px; border-color: rgb(0, 0, 0); border-style: none none solid; display: table-cell; float: none; text-align: center; '>Sum of Squares</th>\n",
    "<th colspan=\"2\" class=\"integer\" style='border-collapse: collapse; border-top-width: 0px; border-bottom-width: 1px; border-left-width: 0px; border-right-width: 0px; border-color: rgb(0, 0, 0); border-style: none none solid; display: table-cell; float: none; text-align: center; '>df</th>\n",
    "<th colspan=\"2\" class=\"number\" style='border-collapse: collapse; border-top-width: 0px; border-bottom-width: 1px; border-left-width: 0px; border-right-width: 0px; border-color: rgb(0, 0, 0); border-style: none none solid; display: table-cell; float: none; text-align: center; '>Mean Square</th>\n",
    "<th colspan=\"2\" class=\"number\" style='border-collapse: collapse; border-top-width: 0px; border-bottom-width: 1px; border-left-width: 0px; border-right-width: 0px; border-color: rgb(0, 0, 0); border-style: none none solid; display: table-cell; float: none; text-align: center; '>F</th>\n",
    "<th colspan=\"2\" class=\"pvalue\" style='border-collapse: collapse; border-top-width: 0px; border-bottom-width: 1px; border-left-width: 0px; border-right-width: 0px; border-color: rgb(0, 0, 0); border-style: none none solid; display: table-cell; float: none; text-align: center; '>p</th>\n",
    "</tr>\n",
    "</thead>\n",
    "<tbody><tr><td class=\"value text new-group-row\" style='border-collapse: collapse; border-top-width: 0px; border-bottom-width: 0px; border-left-width: 0px; border-right-width: 0px; border-color: rgb(0, 0, 0); border-style: none; display: table-cell; float: none; text-align: left; '>AD_Status</td>\n",
    "<td class=\"symbol text new-group-row\" style='border-collapse: collapse; border-top-width: 0px; border-bottom-width: 0px; border-left-width: 0px; border-right-width: 0px; border-color: rgb(0, 0, 0); border-style: none; display: table-cell; float: none; text-align: left; '></td>\n",
    "<td class=\"value number new-group-row\" style='border-collapse: collapse; border-top-width: 0px; border-bottom-width: 0px; border-left-width: 0px; border-right-width: 0px; border-color: rgb(0, 0, 0); border-style: none; display: table-cell; float: none; text-align: right; '>189.225</td>\n",
    "<td class=\"symbol number new-group-row\" style='border-collapse: collapse; border-top-width: 0px; border-bottom-width: 0px; border-left-width: 0px; border-right-width: 0px; border-color: rgb(0, 0, 0); border-style: none; display: table-cell; float: none; text-align: left; '></td>\n",
    "<td class=\"value number new-group-row\" style='border-collapse: collapse; border-top-width: 0px; border-bottom-width: 0px; border-left-width: 0px; border-right-width: 0px; border-color: rgb(0, 0, 0); border-style: none; display: table-cell; float: none; text-align: right; '>1</td>\n",
    "<td class=\"symbol number new-group-row\" style='border-collapse: collapse; border-top-width: 0px; border-bottom-width: 0px; border-left-width: 0px; border-right-width: 0px; border-color: rgb(0, 0, 0); border-style: none; display: table-cell; float: none; text-align: left; '></td>\n",
    "<td class=\"value number new-group-row\" style='border-collapse: collapse; border-top-width: 0px; border-bottom-width: 0px; border-left-width: 0px; border-right-width: 0px; border-color: rgb(0, 0, 0); border-style: none; display: table-cell; float: none; text-align: right; '>189.225</td>\n",
    "<td class=\"symbol number new-group-row\" style='border-collapse: collapse; border-top-width: 0px; border-bottom-width: 0px; border-left-width: 0px; border-right-width: 0px; border-color: rgb(0, 0, 0); border-style: none; display: table-cell; float: none; text-align: left; '></td>\n",
    "<td class=\"value number new-group-row\" style='border-collapse: collapse; border-top-width: 0px; border-bottom-width: 0px; border-left-width: 0px; border-right-width: 0px; border-color: rgb(0, 0, 0); border-style: none; display: table-cell; float: none; text-align: right; '>75.313</td>\n",
    "<td class=\"symbol number new-group-row\" style='border-collapse: collapse; border-top-width: 0px; border-bottom-width: 0px; border-left-width: 0px; border-right-width: 0px; border-color: rgb(0, 0, 0); border-style: none; display: table-cell; float: none; text-align: left; '></td>\n",
    "<td class=\"value p-value new-group-row\" style='border-collapse: collapse; border-top-width: 0px; border-bottom-width: 0px; border-left-width: 0px; border-right-width: 0px; border-color: rgb(0, 0, 0); border-style: none; display: table-cell; float: none; text-align: right; '>&lt; .001</td>\n",
    "<td class=\"symbol p-value new-group-row\" style='border-collapse: collapse; border-top-width: 0px; border-bottom-width: 0px; border-left-width: 0px; border-right-width: 0px; border-color: rgb(0, 0, 0); border-style: none; display: table-cell; float: none; text-align: left; '></td>\n",
    "</tr>\n",
    "<tr><td class=\"value text\" style='border-collapse: collapse; border-top-width: 0px; border-bottom-width: 0px; border-left-width: 0px; border-right-width: 0px; border-color: rgb(0, 0, 0); border-style: none; display: table-cell; float: none; text-align: left; '>Treatment</td>\n",
    "<td class=\"symbol text\" style='border-collapse: collapse; border-top-width: 0px; border-bottom-width: 0px; border-left-width: 0px; border-right-width: 0px; border-color: rgb(0, 0, 0); border-style: none; display: table-cell; float: none; text-align: left; '></td>\n",
    "<td class=\"value number\" style='border-collapse: collapse; border-top-width: 0px; border-bottom-width: 0px; border-left-width: 0px; border-right-width: 0px; border-color: rgb(0, 0, 0); border-style: none; display: table-cell; float: none; text-align: right; '>14.475</td>\n",
    "<td class=\"symbol number\" style='border-collapse: collapse; border-top-width: 0px; border-bottom-width: 0px; border-left-width: 0px; border-right-width: 0px; border-color: rgb(0, 0, 0); border-style: none; display: table-cell; float: none; text-align: left; '></td>\n",
    "<td class=\"value number\" style='border-collapse: collapse; border-top-width: 0px; border-bottom-width: 0px; border-left-width: 0px; border-right-width: 0px; border-color: rgb(0, 0, 0); border-style: none; display: table-cell; float: none; text-align: right; '>3</td>\n",
    "<td class=\"symbol number\" style='border-collapse: collapse; border-top-width: 0px; border-bottom-width: 0px; border-left-width: 0px; border-right-width: 0px; border-color: rgb(0, 0, 0); border-style: none; display: table-cell; float: none; text-align: left; '></td>\n",
    "<td class=\"value number\" style='border-collapse: collapse; border-top-width: 0px; border-bottom-width: 0px; border-left-width: 0px; border-right-width: 0px; border-color: rgb(0, 0, 0); border-style: none; display: table-cell; float: none; text-align: right; '>4.825</td>\n",
    "<td class=\"symbol number\" style='border-collapse: collapse; border-top-width: 0px; border-bottom-width: 0px; border-left-width: 0px; border-right-width: 0px; border-color: rgb(0, 0, 0); border-style: none; display: table-cell; float: none; text-align: left; '></td>\n",
    "<td class=\"value number\" style='border-collapse: collapse; border-top-width: 0px; border-bottom-width: 0px; border-left-width: 0px; border-right-width: 0px; border-color: rgb(0, 0, 0); border-style: none; display: table-cell; float: none; text-align: right; '>1.920</td>\n",
    "<td class=\"symbol number\" style='border-collapse: collapse; border-top-width: 0px; border-bottom-width: 0px; border-left-width: 0px; border-right-width: 0px; border-color: rgb(0, 0, 0); border-style: none; display: table-cell; float: none; text-align: left; '></td>\n",
    "<td class=\"value number\" style='border-collapse: collapse; border-top-width: 0px; border-bottom-width: 0px; border-left-width: 0px; border-right-width: 0px; border-color: rgb(0, 0, 0); border-style: none; display: table-cell; float: none; text-align: right; '>0.146</td>\n",
    "<td class=\"symbol number\" style='border-collapse: collapse; border-top-width: 0px; border-bottom-width: 0px; border-left-width: 0px; border-right-width: 0px; border-color: rgb(0, 0, 0); border-style: none; display: table-cell; float: none; text-align: left; '></td>\n",
    "</tr>\n",
    "<tr><td class=\"value text last-group-row\" style='border-collapse: collapse; border-top-width: 0px; border-bottom-width: 0px; border-left-width: 0px; border-right-width: 0px; border-color: rgb(0, 0, 0); border-style: none; display: table-cell; float: none; text-align: left; '>AD_Status <small>✻</small>\n",
    " Treatment</td>\n",
    "<td class=\"symbol text last-group-row\" style='border-collapse: collapse; border-top-width: 0px; border-bottom-width: 0px; border-left-width: 0px; border-right-width: 0px; border-color: rgb(0, 0, 0); border-style: none; display: table-cell; float: none; text-align: left; '></td>\n",
    "<td class=\"value number last-group-row\" style='border-collapse: collapse; border-top-width: 0px; border-bottom-width: 0px; border-left-width: 0px; border-right-width: 0px; border-color: rgb(0, 0, 0); border-style: none; display: table-cell; float: none; text-align: right; '>8.675</td>\n",
    "<td class=\"symbol number last-group-row\" style='border-collapse: collapse; border-top-width: 0px; border-bottom-width: 0px; border-left-width: 0px; border-right-width: 0px; border-color: rgb(0, 0, 0); border-style: none; display: table-cell; float: none; text-align: left; '></td>\n",
    "<td class=\"value number last-group-row\" style='border-collapse: collapse; border-top-width: 0px; border-bottom-width: 0px; border-left-width: 0px; border-right-width: 0px; border-color: rgb(0, 0, 0); border-style: none; display: table-cell; float: none; text-align: right; '>3</td>\n",
    "<td class=\"symbol number last-group-row\" style='border-collapse: collapse; border-top-width: 0px; border-bottom-width: 0px; border-left-width: 0px; border-right-width: 0px; border-color: rgb(0, 0, 0); border-style: none; display: table-cell; float: none; text-align: left; '></td>\n",
    "<td class=\"value number last-group-row\" style='border-collapse: collapse; border-top-width: 0px; border-bottom-width: 0px; border-left-width: 0px; border-right-width: 0px; border-color: rgb(0, 0, 0); border-style: none; display: table-cell; float: none; text-align: right; '>2.892</td>\n",
    "<td class=\"symbol number last-group-row\" style='border-collapse: collapse; border-top-width: 0px; border-bottom-width: 0px; border-left-width: 0px; border-right-width: 0px; border-color: rgb(0, 0, 0); border-style: none; display: table-cell; float: none; text-align: left; '></td>\n",
    "<td class=\"value number last-group-row\" style='border-collapse: collapse; border-top-width: 0px; border-bottom-width: 0px; border-left-width: 0px; border-right-width: 0px; border-color: rgb(0, 0, 0); border-style: none; display: table-cell; float: none; text-align: right; '>1.151</td>\n",
    "<td class=\"symbol number last-group-row\" style='border-collapse: collapse; border-top-width: 0px; border-bottom-width: 0px; border-left-width: 0px; border-right-width: 0px; border-color: rgb(0, 0, 0); border-style: none; display: table-cell; float: none; text-align: left; '></td>\n",
    "<td class=\"value number last-group-row\" style='border-collapse: collapse; border-top-width: 0px; border-bottom-width: 0px; border-left-width: 0px; border-right-width: 0px; border-color: rgb(0, 0, 0); border-style: none; display: table-cell; float: none; text-align: right; '>0.344</td>\n",
    "<td class=\"symbol number last-group-row\" style='border-collapse: collapse; border-top-width: 0px; border-bottom-width: 0px; border-left-width: 0px; border-right-width: 0px; border-color: rgb(0, 0, 0); border-style: none; display: table-cell; float: none; text-align: left; '></td>\n",
    "</tr>\n",
    "<tr><td class=\"value text new-group-row last-group-row\" style='border-collapse: collapse; border-top-width: 0px; border-bottom-width: 0px; border-left-width: 0px; border-right-width: 0px; border-color: rgb(0, 0, 0); border-style: none; display: table-cell; float: none; text-align: left; '>Residuals</td>\n",
    "<td class=\"symbol text new-group-row last-group-row\" style='border-collapse: collapse; border-top-width: 0px; border-bottom-width: 0px; border-left-width: 0px; border-right-width: 0px; border-color: rgb(0, 0, 0); border-style: none; display: table-cell; float: none; text-align: left; '></td>\n",
    "<td class=\"value number new-group-row last-group-row\" style='border-collapse: collapse; border-top-width: 0px; border-bottom-width: 0px; border-left-width: 0px; border-right-width: 0px; border-color: rgb(0, 0, 0); border-style: none; display: table-cell; float: none; text-align: right; '>80.400</td>\n",
    "<td class=\"symbol number new-group-row last-group-row\" style='border-collapse: collapse; border-top-width: 0px; border-bottom-width: 0px; border-left-width: 0px; border-right-width: 0px; border-color: rgb(0, 0, 0); border-style: none; display: table-cell; float: none; text-align: left; '></td>\n",
    "<td class=\"value number new-group-row last-group-row\" style='border-collapse: collapse; border-top-width: 0px; border-bottom-width: 0px; border-left-width: 0px; border-right-width: 0px; border-color: rgb(0, 0, 0); border-style: none; display: table-cell; float: none; text-align: right; '>32</td>\n",
    "<td class=\"symbol number new-group-row last-group-row\" style='border-collapse: collapse; border-top-width: 0px; border-bottom-width: 0px; border-left-width: 0px; border-right-width: 0px; border-color: rgb(0, 0, 0); border-style: none; display: table-cell; float: none; text-align: left; '></td>\n",
    "<td class=\"value number new-group-row last-group-row\" style='border-collapse: collapse; border-top-width: 0px; border-bottom-width: 0px; border-left-width: 0px; border-right-width: 0px; border-color: rgb(0, 0, 0); border-style: none; display: table-cell; float: none; text-align: right; '>2.512</td>\n",
    "<td class=\"symbol number new-group-row last-group-row\" style='border-collapse: collapse; border-top-width: 0px; border-bottom-width: 0px; border-left-width: 0px; border-right-width: 0px; border-color: rgb(0, 0, 0); border-style: none; display: table-cell; float: none; text-align: left; '></td>\n",
    "<td class=\"value number new-group-row last-group-row\" style='border-collapse: collapse; border-top-width: 0px; border-bottom-width: 0px; border-left-width: 0px; border-right-width: 0px; border-color: rgb(0, 0, 0); border-style: none; display: table-cell; float: none; text-align: right; '></td>\n",
    "<td class=\"symbol number new-group-row last-group-row\" style='border-collapse: collapse; border-top-width: 0px; border-bottom-width: 0px; border-left-width: 0px; border-right-width: 0px; border-color: rgb(0, 0, 0); border-style: none; display: table-cell; float: none; text-align: left; '></td>\n",
    "<td class=\"value undefined new-group-row last-group-row\" style='border-collapse: collapse; border-top-width: 0px; border-bottom-width: 0px; border-left-width: 0px; border-right-width: 0px; border-color: rgb(0, 0, 0); border-style: none; display: table-cell; float: none; text-align: right; '> </td>\n",
    "<td class=\"symbol undefined new-group-row last-group-row\" style='border-collapse: collapse; border-top-width: 0px; border-bottom-width: 0px; border-left-width: 0px; border-right-width: 0px; border-color: rgb(0, 0, 0); border-style: none; display: table-cell; float: none; text-align: left; '></td>\n",
    "</tr>\n",
    "<tr><td colspan=\"12\" style='border-collapse: collapse; border-top-width: 0px; border-bottom-width: 2px; border-left-width: 0px; border-right-width: 0px; border-color: rgb(0, 0, 0); border-style: none none solid; display: table-cell; float: none; text-align: right; '></td>\n",
    "</tr>\n",
    "</tbody>\n",
    "<tfoot><tr><td colspan=\"12\" style='border-collapse: collapse; border-top-width: 0px; border-bottom-width: 0px; border-left-width: 0px; border-right-width: 0px; border-color: rgb(0, 0, 0); border-style: none; display: table-cell; float: none; text-align: left; '><em>Note.</em>\n",
    " Type III Sum of Squares</td>\n",
    "</tr>\n",
    "</tfoot>\n",
    "</table>\n",
    "</div>\n",
    "</div></div></div></div></div></div>\t</body>\n",
    "</html>"
   ]
  },
  {
   "cell_type": "markdown",
   "id": "53e720ba",
   "metadata": {},
   "source": [
    "<h4>\n",
    "This shows that, depending on the presence of Alzheimer's disease (AD), there is a significant main effect of \"Treatment\" on memory performance. The type of treatment has a significant impact on memory results, as indicated by the low p-value. There is also a strong interaction effect between \"AD_Status\" and \"Treatment,\" may occur because of memory errors by both AD state and therapy. \n",
    "<br>This implies that the effect of medication treatments on memory may differ based on the mice's AD condition and vice versa. The results imply that while developing interventions related to memory outcomes in the mice, researchers should take into account not just the kind of treatment but also how the treatment interacts with the AD state of the mice."
   ]
  },
  {
   "cell_type": "markdown",
   "id": "b1251734",
   "metadata": {},
   "source": [
    "# Assumption CHeck"
   ]
  },
  {
   "cell_type": "markdown",
   "id": "b4891c39",
   "metadata": {},
   "source": [
    "<html>\n",
    "\t<head>\n",
    "\t\t<meta http-equiv='Content-Type' content='text/html; charset=utf-8' />\n",
    "\t\t<title>JASP</title>\t\t<style>\t\t\tp {margin-top:1em; margin-bottom:1em;}\t\t</style>\t</head>\n",
    "\t<body style='display: block; padding: 0px; margin: 0px; '>\n",
    "<div style='padding: 0px 7.2px 0px 0px; text-align: start; margin-bottom: 7.2px; margin-top: 1.2px; margin-left: 0px; margin-right: 7.2px; display: block; float: none; position: static; '>\n",
    "<div style=\"display:inline-block; \">\n",
    "<div class=\"jasp-table-primitive jasp-display-primitive\" ><table class=\"jasp-no-select\" style='border-collapse: collapse; border-top-width: 0px; border-bottom-width: 0px; border-left-width: 0px; border-right-width: 0px; border-color: rgb(128, 128, 128); border-style: none; display: table; float: none; '><thead><tr><th colspan=\"8\" class=\"\" style='border-collapse: collapse; border-top-width: 0px; border-bottom-width: 1px; border-left-width: 0px; border-right-width: 0px; border-color: rgb(0, 0, 0); border-style: none none solid; display: table-cell; float: none; text-align: left; '><div class=\"toolbar\" ><div class=\"jasp-toolbar span-toolbar\" ><span class=\"in-toolbar toolbar-clickable\" >Test for Equality of Variances (Levene&#39;s)</span>\n",
    "<div class=\"toolbar-button toolbar-clickable jasp-menu\" ></div>\n",
    "<div class=\"status complete\" ></div>\n",
    "</div>\n",
    "</div>\n",
    "</th>\n",
    "</tr>\n",
    "<tr><th colspan=\"2\" class=\"number\" style='border-collapse: collapse; border-top-width: 0px; border-bottom-width: 1px; border-left-width: 0px; border-right-width: 0px; border-color: rgb(0, 0, 0); border-style: none none solid; display: table-cell; float: none; text-align: center; '>F</th>\n",
    "<th colspan=\"2\" class=\"number\" style='border-collapse: collapse; border-top-width: 0px; border-bottom-width: 1px; border-left-width: 0px; border-right-width: 0px; border-color: rgb(0, 0, 0); border-style: none none solid; display: table-cell; float: none; text-align: center; '>df1</th>\n",
    "<th colspan=\"2\" class=\"number\" style='border-collapse: collapse; border-top-width: 0px; border-bottom-width: 1px; border-left-width: 0px; border-right-width: 0px; border-color: rgb(0, 0, 0); border-style: none none solid; display: table-cell; float: none; text-align: center; '>df2</th>\n",
    "<th colspan=\"2\" class=\"pvalue\" style='border-collapse: collapse; border-top-width: 0px; border-bottom-width: 1px; border-left-width: 0px; border-right-width: 0px; border-color: rgb(0, 0, 0); border-style: none none solid; display: table-cell; float: none; text-align: center; '>p</th>\n",
    "</tr>\n",
    "</thead>\n",
    "<tbody><tr><td class=\"value number\" style='border-collapse: collapse; border-top-width: 0px; border-bottom-width: 0px; border-left-width: 0px; border-right-width: 0px; border-color: rgb(0, 0, 0); border-style: none; display: table-cell; float: none; text-align: right; '>1.568</td>\n",
    "<td class=\"symbol number\" style='border-collapse: collapse; border-top-width: 0px; border-bottom-width: 0px; border-left-width: 0px; border-right-width: 0px; border-color: rgb(0, 0, 0); border-style: none; display: table-cell; float: none; text-align: left; '></td>\n",
    "<td class=\"value number\" style='border-collapse: collapse; border-top-width: 0px; border-bottom-width: 0px; border-left-width: 0px; border-right-width: 0px; border-color: rgb(0, 0, 0); border-style: none; display: table-cell; float: none; text-align: right; '>7.000</td>\n",
    "<td class=\"symbol number\" style='border-collapse: collapse; border-top-width: 0px; border-bottom-width: 0px; border-left-width: 0px; border-right-width: 0px; border-color: rgb(0, 0, 0); border-style: none; display: table-cell; float: none; text-align: left; '></td>\n",
    "<td class=\"value number\" style='border-collapse: collapse; border-top-width: 0px; border-bottom-width: 0px; border-left-width: 0px; border-right-width: 0px; border-color: rgb(0, 0, 0); border-style: none; display: table-cell; float: none; text-align: right; '>32.000</td>\n",
    "<td class=\"symbol number\" style='border-collapse: collapse; border-top-width: 0px; border-bottom-width: 0px; border-left-width: 0px; border-right-width: 0px; border-color: rgb(0, 0, 0); border-style: none; display: table-cell; float: none; text-align: left; '></td>\n",
    "<td class=\"value number\" style='border-collapse: collapse; border-top-width: 0px; border-bottom-width: 0px; border-left-width: 0px; border-right-width: 0px; border-color: rgb(0, 0, 0); border-style: none; display: table-cell; float: none; text-align: right; '>0.181</td>\n",
    "<td class=\"symbol number\" style='border-collapse: collapse; border-top-width: 0px; border-bottom-width: 0px; border-left-width: 0px; border-right-width: 0px; border-color: rgb(0, 0, 0); border-style: none; display: table-cell; float: none; text-align: left; '></td>\n",
    "</tr>\n",
    "<tr><td colspan=\"8\" class=\"\" style='border-collapse: collapse; border-top-width: 0px; border-bottom-width: 2px; border-left-width: 0px; border-right-width: 0px; border-color: rgb(0, 0, 0); border-style: none none solid; display: table-cell; float: none; text-align: right; '></td>\n",
    "</tr>\n",
    "</tbody>\n",
    "<tfoot></tfoot>\n",
    "</table>\n",
    "</div>\n",
    "</div></div>\t</body>\n",
    "</html>"
   ]
  },
  {
   "cell_type": "markdown",
   "id": "2cf94812",
   "metadata": {},
   "source": [
    "<h3>\n",
    "This indicates that medication treatments and AD state have no discernible impact on the variations of memory day errors between groups. The results suggest that there is no significant variation in memory day mistakes between the groups."
   ]
  },
  {
   "cell_type": "markdown",
   "id": "87e3b4b2",
   "metadata": {},
   "source": [
    "# CONCLUSION\n",
    "\n",
    "\n",
    "The study reveals that the type of treatment and the presence or absence of Alzheimer's disease significantly impact mice's learning ability. The results suggest that specific treatments interact with the mice's Alzheimer's disease (AD) condition, highlighting the need for a comprehensive approach to address cognitive performance. The study found that the main effect of \"Treatment\" on memory performance was significant, with the type of treatment having a significant impact.\n",
    "\n",
    "<bR>\n",
    "<bR> The interaction between \"AD_Status\" and \"Treatment\" was also strong, suggesting that memory errors are significantly influenced by both AD state and therapy combined. The study suggests that researchers should consider not just the type of treatment but also how the treatment interacts with the mice's AD state when developing interventions related to memory outcomes. The study also found no significant difference in the variances of memory day errors between groups based on drug treatments and AD status."
   ]
  }
 ],
 "metadata": {
  "kernelspec": {
   "display_name": "Python 3 (ipykernel)",
   "language": "python",
   "name": "python3"
  },
  "language_info": {
   "codemirror_mode": {
    "name": "ipython",
    "version": 3
   },
   "file_extension": ".py",
   "mimetype": "text/x-python",
   "name": "python",
   "nbconvert_exporter": "python",
   "pygments_lexer": "ipython3",
   "version": "3.11.3"
  }
 },
 "nbformat": 4,
 "nbformat_minor": 5
}
